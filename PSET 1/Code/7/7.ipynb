{
 "cells": [
  {
   "cell_type": "markdown",
   "metadata": {},
   "source": [
    "### Letter Frequency Based Attack"
   ]
  },
  {
   "cell_type": "code",
   "execution_count": 1,
   "metadata": {},
   "outputs": [
    {
     "name": "stdout",
     "output_type": "stream",
     "text": [
      "thegraymanisaamericanactionthrillerfilmdirectedbyanthonyandjoerussofromascreenplaythelattercowrotewithchristophermarkusandstephenmcfeelybasedonthenovelofthesamenamebymarkgreaneythefilmstarsryangoslingchrisevansanadearmasjessicahenwickregjeanpagewagnermourajuliabuttersdhanushinhishollywooddebutalfrewoodardandbillybobthorntonproducedbytherussobrotherscompanyagboitisthefirstfilminafranchisebasedupongreaneysgraymannovelstheplotcentersonciaagentsierrasixportrayedbygoslingwhoisontherunfromsociopathice\n"
     ]
    }
   ],
   "source": [
    "with open('ref_text.txt','r') as f:\n",
    "    lines = f.readlines()\n",
    "    # get a single string\n",
    "    lines = ''.join(lines)\n",
    "    # not include any accented characters\n",
    "    lines = lines.encode('ascii', 'ignore').decode('ascii')\n",
    "    lines = ''.join([i.lower() for i in lines if i.isalpha()])\n",
    "    print(lines[:500])\n"
   ]
  },
  {
   "cell_type": "code",
   "execution_count": 2,
   "metadata": {},
   "outputs": [
    {
     "name": "stdout",
     "output_type": "stream",
     "text": [
      "26\n"
     ]
    }
   ],
   "source": [
    "def getcountdict(l):\n",
    "    countdict = {}\n",
    "    for i in l:\n",
    "        if i in countdict:\n",
    "            countdict[i] += 1\n",
    "        else:\n",
    "            countdict[i] = 1\n",
    "\n",
    "    print(len(countdict))\n",
    "    \n",
    "    return countdict\n",
    "\n",
    "ref_cntdict = getcountdict(lines)\n",
    "\n",
    "def getfreqfict(count_dict, length):\n",
    "    freqdict = {}\n",
    "    for char, count in count_dict.items():\n",
    "        freqdict[ord(char) - ord('a')] = count / length\n",
    "    return freqdict\n",
    "\n",
    "ref_freqdict = getfreqfict(ref_cntdict,len(lines))\n",
    "# sort the dictionary by key\n",
    "ref_freqdict = dict(sorted(ref_freqdict.items()))"
   ]
  },
  {
   "cell_type": "code",
   "execution_count": 3,
   "metadata": {},
   "outputs": [
    {
     "data": {
      "text/plain": [
       "{0: 0.09281588813456278,\n",
       " 1: 0.015604417874151384,\n",
       " 2: 0.03485662174485764,\n",
       " 3: 0.03992299118451718,\n",
       " 4: 0.11713446144492856,\n",
       " 5: 0.02289998986726112,\n",
       " 6: 0.018846894315533488,\n",
       " 7: 0.04579997973452224,\n",
       " 8: 0.07802208937075691,\n",
       " 9: 0.0017225656094842436,\n",
       " 10: 0.011247340156044179,\n",
       " 11: 0.04529334279055629,\n",
       " 12: 0.024622555476745363,\n",
       " 13: 0.0738676664302361,\n",
       " 14: 0.06576147532678082,\n",
       " 15: 0.017326983483635625,\n",
       " 16: 0.0012159286655182896,\n",
       " 17: 0.07325970209747695,\n",
       " 18: 0.07670483331644544,\n",
       " 19: 0.07781943459317053,\n",
       " 20: 0.020772114702604115,\n",
       " 21: 0.009524774546559936,\n",
       " 22: 0.012767250987942041,\n",
       " 23: 0.004458405106900395,\n",
       " 24: 0.016111054818117337,\n",
       " 25: 0.0016212382206910528}"
      ]
     },
     "execution_count": 3,
     "metadata": {},
     "output_type": "execute_result"
    }
   ],
   "source": [
    "ref_freqdict"
   ]
  },
  {
   "cell_type": "code",
   "execution_count": 4,
   "metadata": {},
   "outputs": [
    {
     "name": "stdout",
     "output_type": "stream",
     "text": [
      "{0: 0.09281588813456278, 1: 0.015604417874151384, 2: 0.03485662174485764, 3: 0.03992299118451718, 4: 0.11713446144492856, 5: 0.02289998986726112, 6: 0.018846894315533488, 7: 0.04579997973452224, 8: 0.07802208937075691, 9: 0.0017225656094842436, 10: 0.011247340156044179, 11: 0.04529334279055629, 12: 0.024622555476745363, 13: 0.0738676664302361, 14: 0.06576147532678082, 15: 0.017326983483635625, 16: 0.0012159286655182896, 17: 0.07325970209747695, 18: 0.07670483331644544, 19: 0.07781943459317053, 20: 0.020772114702604115, 21: 0.009524774546559936, 22: 0.012767250987942041, 23: 0.004458405106900395, 24: 0.016111054818117337, 25: 0.0016212382206910528} 26\n"
     ]
    }
   ],
   "source": [
    "print(ref_freqdict,len(ref_freqdict))"
   ]
  },
  {
   "cell_type": "code",
   "execution_count": 5,
   "metadata": {},
   "outputs": [
    {
     "name": "stdout",
     "output_type": "stream",
     "text": [
      "18\n",
      "{0: 0.16666666666666666, 1: 0.018518518518518517, 2: 0.018518518518518517, 4: 0.018518518518518517, 7: 0.1111111111111111, 8: 0.09259259259259259, 9: 0.12962962962962962, 10: 0.18518518518518517, 11: 0.018518518518518517, 13: 0.018518518518518517, 14: 0.018518518518518517, 15: 0.018518518518518517, 19: 0.018518518518518517, 20: 0.018518518518518517, 22: 0.05555555555555555, 23: 0.018518518518518517, 24: 0.018518518518518517, 25: 0.05555555555555555} 18\n"
     ]
    }
   ],
   "source": [
    "ciphertext = \"khzzaxwuwjeowckkzkjaatyalpbkniahkjiahkjiahkjiahkjiahkj\"\n",
    "ciph_cntdict = getcountdict(ciphertext)\n",
    "ciph_freqdict = getfreqfict(ciph_cntdict,len(ciphertext))\n",
    "ciph_freqdict = dict(sorted(ciph_freqdict.items()))\n",
    "print(ciph_freqdict,len(ciph_freqdict))\n",
    "for i in range(26):\n",
    "    if i not in ciph_freqdict:\n",
    "        ciph_freqdict[i] = 0"
   ]
  },
  {
   "cell_type": "code",
   "execution_count": 6,
   "metadata": {},
   "outputs": [
    {
     "data": {
      "text/plain": [
       "{'k': 10,\n",
       " 'h': 6,\n",
       " 'z': 3,\n",
       " 'a': 9,\n",
       " 'x': 1,\n",
       " 'w': 3,\n",
       " 'u': 1,\n",
       " 'j': 7,\n",
       " 'e': 1,\n",
       " 'o': 1,\n",
       " 'c': 1,\n",
       " 't': 1,\n",
       " 'y': 1,\n",
       " 'l': 1,\n",
       " 'p': 1,\n",
       " 'b': 1,\n",
       " 'n': 1,\n",
       " 'i': 5}"
      ]
     },
     "execution_count": 6,
     "metadata": {},
     "output_type": "execute_result"
    }
   ],
   "source": [
    "ciph_cntdict"
   ]
  },
  {
   "cell_type": "code",
   "execution_count": 7,
   "metadata": {},
   "outputs": [
    {
     "name": "stdout",
     "output_type": "stream",
     "text": [
      "{0: 0.16666666666666666, 1: 0.018518518518518517, 2: 0.018518518518518517, 3: 0, 4: 0.018518518518518517, 5: 0, 6: 0, 7: 0.1111111111111111, 8: 0.09259259259259259, 9: 0.12962962962962962, 10: 0.18518518518518517, 11: 0.018518518518518517, 12: 0, 13: 0.018518518518518517, 14: 0.018518518518518517, 15: 0.018518518518518517, 16: 0, 17: 0, 18: 0, 19: 0.018518518518518517, 20: 0.018518518518518517, 21: 0, 22: 0.05555555555555555, 23: 0.018518518518518517, 24: 0.018518518518518517, 25: 0.05555555555555555}\n"
     ]
    }
   ],
   "source": [
    "ciph_freqdict = dict(sorted(ciph_freqdict.items()))\n",
    "print(ciph_freqdict)"
   ]
  },
  {
   "cell_type": "code",
   "execution_count": 8,
   "metadata": {},
   "outputs": [
    {
     "name": "stdout",
     "output_type": "stream",
     "text": [
      "22\n"
     ]
    }
   ],
   "source": [
    "# get the minimum error key:\n",
    "import numpy as np\n",
    "\n",
    "# use chi-squared error for better comparison with varying ciphertext length and rare characters\n",
    "def chi_squared(observed, expected):\n",
    "    return sum((observed.get(i, 0) - expected.get(i, 0))**2 / expected.get(i, 1e-10) for i in range(26))\n",
    "\n",
    "def getshifterrors(ref, ciph):\n",
    "    error_list = []\n",
    "    for shift in range(26):\n",
    "        shifted_ciph = {(i-shift)%26: ciph[i] for i in range(26)}\n",
    "        error = chi_squared(shifted_ciph, ref)\n",
    "        error_list.append(error)\n",
    "    return error_list\n",
    "\n",
    "shifterrors = getshifterrors(ref_freqdict,ciph_freqdict)\n",
    "\n",
    "key = shifterrors.index(min(shifterrors))\n",
    "print(key)"
   ]
  },
  {
   "cell_type": "code",
   "execution_count": 9,
   "metadata": {},
   "outputs": [
    {
     "name": "stdout",
     "output_type": "stream",
     "text": [
      "olddebayanisagoodoneexceptformelonmelonmelonmelonmelon\n"
     ]
    }
   ],
   "source": [
    "def getplaintext(ciphertext,key):\n",
    "    plaintext = ''\n",
    "    for i in ciphertext:\n",
    "        plaintext += chr((ord(i) - ord('a') - key) % 26 + ord('a'))\n",
    "    return plaintext\n",
    "\n",
    "print(getplaintext(ciphertext,key))"
   ]
  },
  {
   "cell_type": "markdown",
   "metadata": {},
   "source": [
    "## Entire Implementation"
   ]
  },
  {
   "cell_type": "code",
   "execution_count": 3,
   "metadata": {},
   "outputs": [
    {
     "name": "stdout",
     "output_type": "stream",
     "text": [
      "A:\n",
      "10\n",
      "Plaintext: executedundodbravedfit\n",
      "B:\n",
      "17\n",
      "Plaintext: youmustbespeedoflightbecausetimestopswhenilookatyouhappyvalentinesday\n",
      "C:\n",
      "25\n",
      "Plaintext: ihopeyouinterceptthissecrettransmissionwithoutanyerrorthistransmissionhastravelledamillionlightyearstoinformyouthatwearecomingsoon\n",
      "D:\n",
      "22\n",
      "Plaintext: olddebayanisagoodoneexceptformelonmelonmelonmelonmelon\n"
     ]
    }
   ],
   "source": [
    "import numpy as np\n",
    "\n",
    "with open('ref_text.txt','r') as f:\n",
    "    lines = f.readlines()\n",
    "    # get a single string\n",
    "    lines = ''.join(lines)\n",
    "    # not include any accented characters\n",
    "    lines = lines.encode('ascii', 'ignore').decode('ascii')\n",
    "    lines = ''.join([i.lower() for i in lines if i.isalpha()])\n",
    "\n",
    "def getcountdict(l):\n",
    "    countdict = {}\n",
    "    for i in l:\n",
    "        if i in countdict:\n",
    "            countdict[i] += 1\n",
    "        else:\n",
    "            countdict[i] = 1\n",
    "    \n",
    "    return countdict\n",
    "\n",
    "# use chi-squared error for better comparison with varying ciphertext length and rare characters\n",
    "def chi_squared(observed, expected):\n",
    "    return sum((observed.get(i, 0) - expected.get(i, 0))**2 / expected.get(i, 1e-10) for i in range(26))\n",
    "\n",
    "def getfreqfict(count_dict, length):\n",
    "    freqdict = {}\n",
    "    for char, count in count_dict.items():\n",
    "        freqdict[ord(char) - ord('a')] = count / length\n",
    "    return freqdict\n",
    "\n",
    "def getshifterrors(ref, ciph):\n",
    "    error_list = []\n",
    "    for shift in range(26):\n",
    "        shifted_ciph = {(i-shift)%26: ciph[i] for i in range(26)}\n",
    "        error = chi_squared(shifted_ciph, ref)\n",
    "        error_list.append(error)\n",
    "    return error_list\n",
    "\n",
    "def getplaintext(ciphertext,key):\n",
    "    plaintext = ''\n",
    "    for i in ciphertext:\n",
    "        plaintext += chr((ord(i) - ord('a') - key) % 26 + ord('a'))\n",
    "    return plaintext\n",
    "\n",
    "def _getplaintext(ciphtext,ref_freqdict):\n",
    "    ciph_cntdict = getcountdict(ciphtext)\n",
    "    ciph_freqdict = getfreqfict(ciph_cntdict,len(ciphtext))\n",
    "    ciph_freqdict = dict(sorted(ciph_freqdict.items()))\n",
    "    for i in range(26):\n",
    "        if i not in ciph_freqdict:\n",
    "            ciph_freqdict[i] = 0\n",
    "    shifterrors = getshifterrors(ref_freqdict,ciph_freqdict)\n",
    "    key = shifterrors.index(min(shifterrors))\n",
    "    print(key)\n",
    "    return getplaintext(ciphtext,key)\n",
    "\n",
    "if __name__ == \"__main__\":\n",
    "    ref_cntdict = getcountdict(lines)\n",
    "    ref_freqdict = getfreqfict(ref_cntdict,len(lines))\n",
    "    ref_freqdict = dict(sorted(ref_freqdict.items()))\n",
    "\n",
    "    print(\"A:\")\n",
    "    cpht1 = str.lower(\"OHOMEDO EXNY LBKFO PSD\")\n",
    "    ciphertext1 = \"uryczrvzgenccrqvafvqrnpnrfnepvcurenaqpnagtrgbhg\"\n",
    "    # print(\"Ciphertext:\",ciphertext1)\n",
    "    plaintext1 = _getplaintext(cpht1,ref_freqdict)\n",
    "    print(\"Plaintext:\",plaintext1)\n",
    "\n",
    "    print(\"B:\")\n",
    "    ciphertext2 = \"pfldljksvjgvvufwczxyksvtrljvkzdvjkfgjnyvezcffbrkpflyrggpmrcvekzevjurp\"\n",
    "    # print(\"Ciphertext:\",ciphertext2)\n",
    "    plaintext2 = _getplaintext(ciphertext2,ref_freqdict)\n",
    "    print(\"Plaintext:\",plaintext2)\n",
    "\n",
    "    print(\"C:\")\n",
    "    ciphertext3 = \"hgnodxnthmsdqbdossghrrdbqdssqzmrlhrrhnmvhsgntszmxdqqnqsghrsqzmrlhrrhnmgzrsqzudkkdczlhkkhnmkhfgsxdzqrsnhmenqlxntsgzsvdzqdbnlhmfrnnm\"\n",
    "    # print(\"Ciphertext:\",ciphertext3)\n",
    "    plaintext3 = _getplaintext(ciphertext3,ref_freqdict)\n",
    "    print(\"Plaintext:\",plaintext3)\n",
    "\n",
    "    print(\"D:\")\n",
    "    ciphertext4 = \"khzzaxwuwjeowckkzkjaatyalpbkniahkjiahkjiahkjiahkjiahkj\"\n",
    "    # print(\"Ciphertext:\",ciphertext4)\n",
    "    plaintext4 = _getplaintext(ciphertext4,ref_freqdict)\n",
    "    print(\"Plaintext:\",plaintext4)"
   ]
  },
  {
   "cell_type": "code",
   "execution_count": null,
   "metadata": {},
   "outputs": [],
   "source": []
  }
 ],
 "metadata": {
  "kernelspec": {
   "display_name": "base",
   "language": "python",
   "name": "python3"
  },
  "language_info": {
   "codemirror_mode": {
    "name": "ipython",
    "version": 3
   },
   "file_extension": ".py",
   "mimetype": "text/x-python",
   "name": "python",
   "nbconvert_exporter": "python",
   "pygments_lexer": "ipython3",
   "version": "3.11.4"
  }
 },
 "nbformat": 4,
 "nbformat_minor": 2
}
